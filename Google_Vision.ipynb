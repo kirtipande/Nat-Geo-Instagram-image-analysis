{
  "nbformat": 4,
  "nbformat_minor": 0,
  "metadata": {
    "colab": {
      "name": "SocialMedia_HW2.ipynb",
      "version": "0.3.2",
      "provenance": []
    },
    "kernelspec": {
      "display_name": "Python 3",
      "language": "python",
      "name": "python3"
    }
  },
  "cells": [
    {
      "metadata": {
        "id": "Zv6I6_YHC7nH",
        "colab_type": "text"
      },
      "cell_type": "markdown",
      "source": [
        "## GOOGLE VISION CODE"
      ]
    },
    {
      "metadata": {
        "id": "EJIHnEFlC7nL",
        "colab_type": "code",
        "colab": {}
      },
      "cell_type": "code",
      "source": [
        "import os\n",
        "#mention the credentials required\n",
        "os.environ['GOOGLE_APPLICATION_CREDENTIALS'] = \"\""
      ],
      "execution_count": 0,
      "outputs": []
    },
    {
      "metadata": {
        "id": "kEROr2yJC7nX",
        "colab_type": "text"
      },
      "cell_type": "markdown",
      "source": [
        "#### Install Google Cloud Vision and other dependencies"
      ]
    },
    {
      "metadata": {
        "collapsed": true,
        "id": "F4LG7_YGC7nZ",
        "colab_type": "code",
        "outputId": "db630aa9-dcd0-43d5-88cd-fc923ea790c5",
        "colab": {}
      },
      "cell_type": "code",
      "source": [
        "# #Install vision\n",
        "# !pip install --upgrade setuptools\n",
        "# !pip install --upgrade google-cloud-vision\n",
        "# !pip install --upgrade google-api-python-client\n",
        "# !pip install --upgrade google-cloud-vision"
      ],
      "execution_count": 0,
      "outputs": [
        {
          "output_type": "stream",
          "text": [
            "Collecting setuptools\n",
            "  Downloading https://files.pythonhosted.org/packages/d1/6a/4b2fcefd2ea0868810e92d519dacac1ddc64a2e53ba9e3422c3b62b378a6/setuptools-40.8.0-py2.py3-none-any.whl (575kB)\n",
            "Installing collected packages: setuptools\n",
            "  Found existing installation: setuptools 39.1.0\n",
            "    Uninstalling setuptools-39.1.0:\n",
            "      Successfully uninstalled setuptools-39.1.0\n",
            "Successfully installed setuptools-40.8.0\n"
          ],
          "name": "stdout"
        },
        {
          "output_type": "stream",
          "text": [
            "tensorflow 1.11.0 has requirement setuptools<=39.1.0, but you'll have setuptools 40.8.0 which is incompatible.\n",
            "You are using pip version 10.0.1, however version 19.0.3 is available.\n",
            "You should consider upgrading via the 'python -m pip install --upgrade pip' command.\n"
          ],
          "name": "stderr"
        },
        {
          "output_type": "stream",
          "text": [
            "Collecting google-cloud-vision\n",
            "  Downloading https://files.pythonhosted.org/packages/1c/61/b545aaee28d81e410e91d75e236a53f342bbb49fd4538332afa1661ef0ae/google_cloud_vision-0.35.2-py2.py3-none-any.whl (226kB)\n",
            "Collecting google-api-core[grpc]<2.0.0dev,>=1.6.0 (from google-cloud-vision)\n",
            "  Downloading https://files.pythonhosted.org/packages/8b/01/13758ff9b970008ccf9e0dcc3b86d0e01937d7485b9a2c6142c9c2bdb4da/google_api_core-1.7.0-py2.py3-none-any.whl (64kB)\n",
            "Requirement not upgraded as not directly required: google-auth<2.0dev,>=0.4.0 in c:\\users\\bandi\\anaconda3\\lib\\site-packages (from google-api-core[grpc]<2.0.0dev,>=1.6.0->google-cloud-vision) (1.5.1)\n",
            "Requirement not upgraded as not directly required: pytz in c:\\users\\bandi\\anaconda3\\lib\\site-packages (from google-api-core[grpc]<2.0.0dev,>=1.6.0->google-cloud-vision) (2018.4)\n",
            "Requirement not upgraded as not directly required: setuptools>=34.0.0 in c:\\users\\bandi\\anaconda3\\lib\\site-packages (from google-api-core[grpc]<2.0.0dev,>=1.6.0->google-cloud-vision) (40.8.0)\n",
            "Requirement not upgraded as not directly required: requests<3.0.0dev,>=2.18.0 in c:\\users\\bandi\\anaconda3\\lib\\site-packages (from google-api-core[grpc]<2.0.0dev,>=1.6.0->google-cloud-vision) (2.18.4)\n",
            "Requirement not upgraded as not directly required: protobuf>=3.4.0 in c:\\users\\bandi\\anaconda3\\lib\\site-packages (from google-api-core[grpc]<2.0.0dev,>=1.6.0->google-cloud-vision) (3.6.1)\n",
            "Requirement not upgraded as not directly required: six>=1.10.0 in c:\\users\\bandi\\anaconda3\\lib\\site-packages (from google-api-core[grpc]<2.0.0dev,>=1.6.0->google-cloud-vision) (1.11.0)\n",
            "Requirement not upgraded as not directly required: googleapis-common-protos!=1.5.4,<2.0dev,>=1.5.3 in c:\\users\\bandi\\anaconda3\\lib\\site-packages (from google-api-core[grpc]<2.0.0dev,>=1.6.0->google-cloud-vision) (1.5.5)\n",
            "Requirement not upgraded as not directly required: grpcio>=1.8.2; extra == \"grpc\" in c:\\users\\bandi\\anaconda3\\lib\\site-packages (from google-api-core[grpc]<2.0.0dev,>=1.6.0->google-cloud-vision) (1.16.0)\n",
            "Requirement not upgraded as not directly required: pyasn1-modules>=0.2.1 in c:\\users\\bandi\\anaconda3\\lib\\site-packages (from google-auth<2.0dev,>=0.4.0->google-api-core[grpc]<2.0.0dev,>=1.6.0->google-cloud-vision) (0.2.2)\n",
            "Requirement not upgraded as not directly required: cachetools>=2.0.0 in c:\\users\\bandi\\anaconda3\\lib\\site-packages (from google-auth<2.0dev,>=0.4.0->google-api-core[grpc]<2.0.0dev,>=1.6.0->google-cloud-vision) (2.1.0)\n",
            "Requirement not upgraded as not directly required: rsa>=3.1.4 in c:\\users\\bandi\\anaconda3\\lib\\site-packages (from google-auth<2.0dev,>=0.4.0->google-api-core[grpc]<2.0.0dev,>=1.6.0->google-cloud-vision) (4.0)\n",
            "Requirement not upgraded as not directly required: chardet<3.1.0,>=3.0.2 in c:\\users\\bandi\\anaconda3\\lib\\site-packages (from requests<3.0.0dev,>=2.18.0->google-api-core[grpc]<2.0.0dev,>=1.6.0->google-cloud-vision) (3.0.4)\n",
            "Requirement not upgraded as not directly required: idna<2.7,>=2.5 in c:\\users\\bandi\\anaconda3\\lib\\site-packages (from requests<3.0.0dev,>=2.18.0->google-api-core[grpc]<2.0.0dev,>=1.6.0->google-cloud-vision) (2.6)\n",
            "Requirement not upgraded as not directly required: urllib3<1.23,>=1.21.1 in c:\\users\\bandi\\anaconda3\\lib\\site-packages (from requests<3.0.0dev,>=2.18.0->google-api-core[grpc]<2.0.0dev,>=1.6.0->google-cloud-vision) (1.22)\n",
            "Requirement not upgraded as not directly required: certifi>=2017.4.17 in c:\\users\\bandi\\anaconda3\\lib\\site-packages (from requests<3.0.0dev,>=2.18.0->google-api-core[grpc]<2.0.0dev,>=1.6.0->google-cloud-vision) (2018.4.16)\n",
            "Requirement not upgraded as not directly required: pyasn1<0.5.0,>=0.4.1 in c:\\users\\bandi\\anaconda3\\lib\\site-packages (from pyasn1-modules>=0.2.1->google-auth<2.0dev,>=0.4.0->google-api-core[grpc]<2.0.0dev,>=1.6.0->google-cloud-vision) (0.4.4)\n",
            "Installing collected packages: google-api-core, google-cloud-vision\n",
            "  Found existing installation: google-api-core 1.5.1\n",
            "    Uninstalling google-api-core-1.5.1:\n",
            "      Successfully uninstalled google-api-core-1.5.1\n",
            "Successfully installed google-api-core-1.7.0 google-cloud-vision-0.35.2\n"
          ],
          "name": "stdout"
        },
        {
          "output_type": "stream",
          "text": [
            "tensorflow 1.11.0 has requirement setuptools<=39.1.0, but you'll have setuptools 40.8.0 which is incompatible.\n",
            "You are using pip version 10.0.1, however version 19.0.3 is available.\n",
            "You should consider upgrading via the 'python -m pip install --upgrade pip' command.\n"
          ],
          "name": "stderr"
        },
        {
          "output_type": "stream",
          "text": [
            "Collecting google-api-python-client\n",
            "  Downloading https://files.pythonhosted.org/packages/55/e9/e8fb2e3a031cb69b9524b80a92b126665d9a17421700a219555e3233ab6a/google_api_python_client-1.7.8-py3-none-any.whl (56kB)\n",
            "Requirement not upgraded as not directly required: six<2dev,>=1.6.1 in c:\\users\\bandi\\anaconda3\\lib\\site-packages (from google-api-python-client) (1.11.0)\n",
            "Collecting httplib2<1dev,>=0.9.2 (from google-api-python-client)\n",
            "  Downloading https://files.pythonhosted.org/packages/75/d0/f213003c9deec99fb4f46e54580b93a3b121c487d9d6d888fc12267eb2a2/httplib2-0.12.1.tar.gz (218kB)\n",
            "Collecting uritemplate<4dev,>=3.0.0 (from google-api-python-client)\n",
            "  Downloading https://files.pythonhosted.org/packages/e5/7d/9d5a640c4f8bf2c8b1afc015e9a9d8de32e13c9016dcc4b0ec03481fb396/uritemplate-3.0.0-py2.py3-none-any.whl\n",
            "Collecting google-auth-httplib2>=0.0.3 (from google-api-python-client)\n",
            "  Downloading https://files.pythonhosted.org/packages/33/49/c814d6d438b823441552198f096fcd0377fd6c88714dbed34f1d3c8c4389/google_auth_httplib2-0.0.3-py2.py3-none-any.whl\n",
            "Requirement not upgraded as not directly required: google-auth>=1.4.1 in c:\\users\\bandi\\anaconda3\\lib\\site-packages (from google-api-python-client) (1.5.1)\n",
            "Requirement not upgraded as not directly required: pyasn1-modules>=0.2.1 in c:\\users\\bandi\\anaconda3\\lib\\site-packages (from google-auth>=1.4.1->google-api-python-client) (0.2.2)\n",
            "Requirement not upgraded as not directly required: rsa>=3.1.4 in c:\\users\\bandi\\anaconda3\\lib\\site-packages (from google-auth>=1.4.1->google-api-python-client) (4.0)\n",
            "Requirement not upgraded as not directly required: cachetools>=2.0.0 in c:\\users\\bandi\\anaconda3\\lib\\site-packages (from google-auth>=1.4.1->google-api-python-client) (2.1.0)\n",
            "Requirement not upgraded as not directly required: pyasn1<0.5.0,>=0.4.1 in c:\\users\\bandi\\anaconda3\\lib\\site-packages (from pyasn1-modules>=0.2.1->google-auth>=1.4.1->google-api-python-client) (0.4.4)\n",
            "Building wheels for collected packages: httplib2\n",
            "  Running setup.py bdist_wheel for httplib2: started\n",
            "  Running setup.py bdist_wheel for httplib2: finished with status 'done'\n",
            "  Stored in directory: C:\\Users\\bandi\\AppData\\Local\\pip\\Cache\\wheels\\98\\82\\0d\\cfb126a5e40d487157e43fdb3332937713dde36b4d0e1e754d\n",
            "Successfully built httplib2\n",
            "Installing collected packages: httplib2, uritemplate, google-auth-httplib2, google-api-python-client\n",
            "Successfully installed google-api-python-client-1.7.8 google-auth-httplib2-0.0.3 httplib2-0.12.1 uritemplate-3.0.0\n"
          ],
          "name": "stdout"
        },
        {
          "output_type": "stream",
          "text": [
            "tensorflow 1.11.0 has requirement setuptools<=39.1.0, but you'll have setuptools 40.8.0 which is incompatible.\n",
            "You are using pip version 10.0.1, however version 19.0.3 is available.\n",
            "You should consider upgrading via the 'python -m pip install --upgrade pip' command.\n"
          ],
          "name": "stderr"
        },
        {
          "output_type": "stream",
          "text": [
            "Requirement already up-to-date: google-cloud-vision in c:\\users\\bandi\\anaconda3\\lib\\site-packages (0.35.2)\n",
            "Requirement not upgraded as not directly required: google-api-core[grpc]<2.0.0dev,>=1.6.0 in c:\\users\\bandi\\anaconda3\\lib\\site-packages (from google-cloud-vision) (1.7.0)\n",
            "Requirement not upgraded as not directly required: google-auth<2.0dev,>=0.4.0 in c:\\users\\bandi\\anaconda3\\lib\\site-packages (from google-api-core[grpc]<2.0.0dev,>=1.6.0->google-cloud-vision) (1.5.1)\n",
            "Requirement not upgraded as not directly required: pytz in c:\\users\\bandi\\anaconda3\\lib\\site-packages (from google-api-core[grpc]<2.0.0dev,>=1.6.0->google-cloud-vision) (2018.4)\n",
            "Requirement not upgraded as not directly required: requests<3.0.0dev,>=2.18.0 in c:\\users\\bandi\\anaconda3\\lib\\site-packages (from google-api-core[grpc]<2.0.0dev,>=1.6.0->google-cloud-vision) (2.18.4)\n",
            "Requirement not upgraded as not directly required: protobuf>=3.4.0 in c:\\users\\bandi\\anaconda3\\lib\\site-packages (from google-api-core[grpc]<2.0.0dev,>=1.6.0->google-cloud-vision) (3.6.1)\n",
            "Requirement not upgraded as not directly required: six>=1.10.0 in c:\\users\\bandi\\anaconda3\\lib\\site-packages (from google-api-core[grpc]<2.0.0dev,>=1.6.0->google-cloud-vision) (1.11.0)\n",
            "Requirement not upgraded as not directly required: setuptools>=34.0.0 in c:\\users\\bandi\\anaconda3\\lib\\site-packages (from google-api-core[grpc]<2.0.0dev,>=1.6.0->google-cloud-vision) (40.8.0)\n",
            "Requirement not upgraded as not directly required: googleapis-common-protos!=1.5.4,<2.0dev,>=1.5.3 in c:\\users\\bandi\\anaconda3\\lib\\site-packages (from google-api-core[grpc]<2.0.0dev,>=1.6.0->google-cloud-vision) (1.5.5)\n",
            "Requirement not upgraded as not directly required: grpcio>=1.8.2; extra == \"grpc\" in c:\\users\\bandi\\anaconda3\\lib\\site-packages (from google-api-core[grpc]<2.0.0dev,>=1.6.0->google-cloud-vision) (1.16.0)\n",
            "Requirement not upgraded as not directly required: cachetools>=2.0.0 in c:\\users\\bandi\\anaconda3\\lib\\site-packages (from google-auth<2.0dev,>=0.4.0->google-api-core[grpc]<2.0.0dev,>=1.6.0->google-cloud-vision) (2.1.0)\n",
            "Requirement not upgraded as not directly required: rsa>=3.1.4 in c:\\users\\bandi\\anaconda3\\lib\\site-packages (from google-auth<2.0dev,>=0.4.0->google-api-core[grpc]<2.0.0dev,>=1.6.0->google-cloud-vision) (4.0)\n",
            "Requirement not upgraded as not directly required: pyasn1-modules>=0.2.1 in c:\\users\\bandi\\anaconda3\\lib\\site-packages (from google-auth<2.0dev,>=0.4.0->google-api-core[grpc]<2.0.0dev,>=1.6.0->google-cloud-vision) (0.2.2)\n",
            "Requirement not upgraded as not directly required: chardet<3.1.0,>=3.0.2 in c:\\users\\bandi\\anaconda3\\lib\\site-packages (from requests<3.0.0dev,>=2.18.0->google-api-core[grpc]<2.0.0dev,>=1.6.0->google-cloud-vision) (3.0.4)\n",
            "Requirement not upgraded as not directly required: idna<2.7,>=2.5 in c:\\users\\bandi\\anaconda3\\lib\\site-packages (from requests<3.0.0dev,>=2.18.0->google-api-core[grpc]<2.0.0dev,>=1.6.0->google-cloud-vision) (2.6)\n",
            "Requirement not upgraded as not directly required: urllib3<1.23,>=1.21.1 in c:\\users\\bandi\\anaconda3\\lib\\site-packages (from requests<3.0.0dev,>=2.18.0->google-api-core[grpc]<2.0.0dev,>=1.6.0->google-cloud-vision) (1.22)\n",
            "Requirement not upgraded as not directly required: certifi>=2017.4.17 in c:\\users\\bandi\\anaconda3\\lib\\site-packages (from requests<3.0.0dev,>=2.18.0->google-api-core[grpc]<2.0.0dev,>=1.6.0->google-cloud-vision) (2018.4.16)\n",
            "Requirement not upgraded as not directly required: pyasn1>=0.1.3 in c:\\users\\bandi\\anaconda3\\lib\\site-packages (from rsa>=3.1.4->google-auth<2.0dev,>=0.4.0->google-api-core[grpc]<2.0.0dev,>=1.6.0->google-cloud-vision) (0.4.4)\n"
          ],
          "name": "stdout"
        },
        {
          "output_type": "stream",
          "text": [
            "tensorflow 1.11.0 has requirement setuptools<=39.1.0, but you'll have setuptools 40.8.0 which is incompatible.\n",
            "You are using pip version 10.0.1, however version 19.0.3 is available.\n",
            "You should consider upgrading via the 'python -m pip install --upgrade pip' command.\n"
          ],
          "name": "stderr"
        }
      ]
    },
    {
      "metadata": {
        "id": "VaObXOkzC7nu",
        "colab_type": "code",
        "colab": {}
      },
      "cell_type": "code",
      "source": [
        "import io\n",
        "import os\n",
        "from google.cloud import vision\n",
        "from google.cloud.vision import types\n",
        "import numpy as np\n",
        "import urllib\n",
        "import pandas as pd\n",
        "# https://cloud.google.com/vision/docs/libraries"
      ],
      "execution_count": 0,
      "outputs": []
    },
    {
      "metadata": {
        "id": "u4toAulWC7n6",
        "colab_type": "code",
        "colab": {}
      },
      "cell_type": "code",
      "source": [
        "#mention the image folder\n",
        "ImageFolder = \"\"\n",
        "# Placeholders to store data\n",
        "ImageID = []\n",
        "MID = []\n",
        "Description = []\n",
        "Score = []"
      ],
      "execution_count": 0,
      "outputs": []
    },
    {
      "metadata": {
        "id": "s180lksLC7oC",
        "colab_type": "code",
        "colab": {}
      },
      "cell_type": "code",
      "source": [
        "# Create empty data frame and vision API client\n",
        "ImageLabels = pd.DataFrame()\n",
        "client = vision.ImageAnnotatorClient()"
      ],
      "execution_count": 0,
      "outputs": []
    },
    {
      "metadata": {
        "id": "whBJ5rxaC7oL",
        "colab_type": "code",
        "colab": {}
      },
      "cell_type": "code",
      "source": [
        "# empty dictionaries to store all image information\n",
        "image_labels = {}\n",
        "image_scores = {}"
      ],
      "execution_count": 0,
      "outputs": []
    },
    {
      "metadata": {
        "id": "j-NGezu_C7oU",
        "colab_type": "code",
        "colab": {}
      },
      "cell_type": "code",
      "source": [
        "# Get labels and scores for every image in folder\n",
        "for file in os.listdir(ImageFolder):\n",
        "    filename = os.path.basename(file).split('.')[0] # Get image ID\n",
        "    image_file = io.open(ImageFolder+file, 'rb') # Open image\n",
        "    content = image_file.read() # Read image into memory\n",
        "    image = types.Image(content=content) # Does something\n",
        "    response = client.label_detection(image=image) # Gets response from API for image\n",
        "    labels = response.label_annotations # Get labels from response\n",
        "    Nlabels = len(labels) # Get the number of labels that were returned\n",
        "    \n",
        "    #create lists to store label and score in separate list\n",
        "    l = []\n",
        "    s = []\n",
        "    for i in range(0, Nlabels): # For each label we will store the MID, label, and score\n",
        "        l.append(labels[i].description)\n",
        "        s.append(labels[i].score)\n",
        "        image_labels[filename] = l #put label info from list into the dictionary\n",
        "        image_scores[filename] = s #put score info from list into the dictionary"
      ],
      "execution_count": 0,
      "outputs": []
    },
    {
      "metadata": {
        "id": "2Qpn_aufC7og",
        "colab_type": "code",
        "colab": {}
      },
      "cell_type": "code",
      "source": [
        "# create dataframe\n",
        "df = pd.DataFrame()\n",
        "df['imageid'] = image_labels.keys()\n",
        "df['labels'] = image_labels.values()\n",
        "df['scores'] = image_scores.values()"
      ],
      "execution_count": 0,
      "outputs": []
    },
    {
      "metadata": {
        "id": "td_TcLu1C7oq",
        "colab_type": "code",
        "colab": {}
      },
      "cell_type": "code",
      "source": [
        "df.to_csv('nat_geo_labes_scores.csv')"
      ],
      "execution_count": 0,
      "outputs": []
    }
  ]
}